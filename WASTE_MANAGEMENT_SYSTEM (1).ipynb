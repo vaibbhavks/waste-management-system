{
  "nbformat": 4,
  "nbformat_minor": 0,
  "metadata": {
    "colab": {
      "provenance": [],
      "collapsed_sections": []
    },
    "kernelspec": {
      "name": "python3",
      "display_name": "Python 3"
    },
    "language_info": {
      "name": "python"
    },
    "accelerator": "GPU"
  },
  "cells": [
    {
      "cell_type": "code",
      "execution_count": null,
      "metadata": {
        "colab": {
          "base_uri": "https://localhost:8080/"
        },
        "id": "GH9jlLahJGF_",
        "outputId": "5ecd68cc-100d-49ce-b577-7a3d6180337e"
      },
      "outputs": [
        {
          "output_type": "stream",
          "name": "stdout",
          "text": [
            "Drive already mounted at /content/drive; to attempt to forcibly remount, call drive.mount(\"/content/drive\", force_remount=True).\n"
          ]
        }
      ],
      "source": [
        "from google.colab import drive\n",
        "drive.mount('/content/drive')"
      ]
    },
    {
      "cell_type": "code",
      "source": [
        "import tensorflow as tf\n",
        "import numpy as np\n",
        "import matplotlib.pyplot as plt\n",
        "from tensorflow import keras\n",
        "from tensorflow.keras.models import Model\n",
        "from tensorflow.keras import layers\n",
        "from tensorflow.keras.applications.vgg16 import VGG16\n",
        "from tensorflow.keras.models import Sequential\n",
        "import numpy as np \n",
        "import pandas as pd \n",
        "import os\n",
        "from keras.preprocessing.image import ImageDataGenerator, load_img, img_to_array, array_to_img\n",
        "from keras.layers import Conv2D, Flatten, MaxPooling2D, Dense\n",
        "from tensorflow.keras.layers import Dense,Flatten,MaxPool2D,Conv2D,Dropout,MaxPooling2D,BatchNormalization\n",
        "from tensorflow.keras.callbacks import EarlyStopping, ModelCheckpoint, History"
      ],
      "metadata": {
        "id": "_38nzk9pJf-D"
      },
      "execution_count": null,
      "outputs": []
    },
    {
      "cell_type": "code",
      "source": [
        "IMAGE_SIZE= [224,224]"
      ],
      "metadata": {
        "id": "_7GcL6gXJhIX"
      },
      "execution_count": null,
      "outputs": []
    },
    {
      "cell_type": "markdown",
      "source": [
        "# Provide data set path"
      ],
      "metadata": {
        "id": "ggy7il7sauAF"
      }
    },
    {
      "cell_type": "code",
      "source": [
        "train_dir = '/content/drive/MyDrive/new_ds/train/train'\n",
        "test_dir = '/content/drive/MyDrive/new_ds/test/test'"
      ],
      "metadata": {
        "id": "EfQF-zi3Ji2m"
      },
      "execution_count": null,
      "outputs": []
    },
    {
      "cell_type": "code",
      "source": [
        "from glob import glob\n",
        "folders=glob('/content/drive/MyDrive/new_ds/train/train/*')"
      ],
      "metadata": {
        "id": "jn_BzDbQKAfJ"
      },
      "execution_count": null,
      "outputs": []
    },
    {
      "cell_type": "code",
      "source": [
        "folders"
      ],
      "metadata": {
        "colab": {
          "base_uri": "https://localhost:8080/"
        },
        "id": "VVSxD5B2KIrr",
        "outputId": "c8fd7a87-aefb-4542-a29d-36661038c46c"
      },
      "execution_count": null,
      "outputs": [
        {
          "output_type": "execute_result",
          "data": {
            "text/plain": [
              "['/content/drive/MyDrive/new_ds/train/train/Plastic_Waste',\n",
              " '/content/drive/MyDrive/new_ds/train/train/Paper_Waste',\n",
              " '/content/drive/MyDrive/new_ds/train/train/Organic_Waste',\n",
              " '/content/drive/MyDrive/new_ds/train/train/Metal_Waste',\n",
              " '/content/drive/MyDrive/new_ds/train/train/Glass_Waste',\n",
              " '/content/drive/MyDrive/new_ds/train/train/E_Waste',\n",
              " '/content/drive/MyDrive/new_ds/train/train/Clothes_Waste']"
            ]
          },
          "metadata": {},
          "execution_count": 10
        }
      ]
    },
    {
      "cell_type": "markdown",
      "source": [
        "# LOAD PRETRAINED MODEL"
      ],
      "metadata": {
        "id": "H5WdJADDJvXr"
      }
    },
    {
      "cell_type": "code",
      "source": [
        "vgg=VGG16(input_shape=IMAGE_SIZE+[3],weights='imagenet',include_top=False)"
      ],
      "metadata": {
        "colab": {
          "base_uri": "https://localhost:8080/"
        },
        "id": "0f3FLNPAJwTD",
        "outputId": "75afab27-a9e1-485b-e2ee-725da6159147"
      },
      "execution_count": null,
      "outputs": [
        {
          "output_type": "stream",
          "name": "stdout",
          "text": [
            "Downloading data from https://storage.googleapis.com/tensorflow/keras-applications/vgg16/vgg16_weights_tf_dim_ordering_tf_kernels_notop.h5\n",
            "58892288/58889256 [==============================] - 0s 0us/step\n",
            "58900480/58889256 [==============================] - 0s 0us/step\n"
          ]
        }
      ]
    },
    {
      "cell_type": "code",
      "source": [
        "vgg.summary()"
      ],
      "metadata": {
        "colab": {
          "base_uri": "https://localhost:8080/"
        },
        "id": "a2Hv3kvzJ0mz",
        "outputId": "58ddcbfd-58ac-446d-c978-a2f113c8d1ae"
      },
      "execution_count": null,
      "outputs": [
        {
          "output_type": "stream",
          "name": "stdout",
          "text": [
            "Model: \"vgg16\"\n",
            "_________________________________________________________________\n",
            " Layer (type)                Output Shape              Param #   \n",
            "=================================================================\n",
            " input_1 (InputLayer)        [(None, 224, 224, 3)]     0         \n",
            "                                                                 \n",
            " block1_conv1 (Conv2D)       (None, 224, 224, 64)      1792      \n",
            "                                                                 \n",
            " block1_conv2 (Conv2D)       (None, 224, 224, 64)      36928     \n",
            "                                                                 \n",
            " block1_pool (MaxPooling2D)  (None, 112, 112, 64)      0         \n",
            "                                                                 \n",
            " block2_conv1 (Conv2D)       (None, 112, 112, 128)     73856     \n",
            "                                                                 \n",
            " block2_conv2 (Conv2D)       (None, 112, 112, 128)     147584    \n",
            "                                                                 \n",
            " block2_pool (MaxPooling2D)  (None, 56, 56, 128)       0         \n",
            "                                                                 \n",
            " block3_conv1 (Conv2D)       (None, 56, 56, 256)       295168    \n",
            "                                                                 \n",
            " block3_conv2 (Conv2D)       (None, 56, 56, 256)       590080    \n",
            "                                                                 \n",
            " block3_conv3 (Conv2D)       (None, 56, 56, 256)       590080    \n",
            "                                                                 \n",
            " block3_pool (MaxPooling2D)  (None, 28, 28, 256)       0         \n",
            "                                                                 \n",
            " block4_conv1 (Conv2D)       (None, 28, 28, 512)       1180160   \n",
            "                                                                 \n",
            " block4_conv2 (Conv2D)       (None, 28, 28, 512)       2359808   \n",
            "                                                                 \n",
            " block4_conv3 (Conv2D)       (None, 28, 28, 512)       2359808   \n",
            "                                                                 \n",
            " block4_pool (MaxPooling2D)  (None, 14, 14, 512)       0         \n",
            "                                                                 \n",
            " block5_conv1 (Conv2D)       (None, 14, 14, 512)       2359808   \n",
            "                                                                 \n",
            " block5_conv2 (Conv2D)       (None, 14, 14, 512)       2359808   \n",
            "                                                                 \n",
            " block5_conv3 (Conv2D)       (None, 14, 14, 512)       2359808   \n",
            "                                                                 \n",
            " block5_pool (MaxPooling2D)  (None, 7, 7, 512)         0         \n",
            "                                                                 \n",
            "=================================================================\n",
            "Total params: 14,714,688\n",
            "Trainable params: 14,714,688\n",
            "Non-trainable params: 0\n",
            "_________________________________________________________________\n"
          ]
        }
      ]
    },
    {
      "cell_type": "markdown",
      "source": [
        "# Don't train existing weights"
      ],
      "metadata": {
        "id": "ijTCr-J6J-Ad"
      }
    },
    {
      "cell_type": "code",
      "source": [
        "for layer in vgg.layers:\n",
        "  layer.trainable = False"
      ],
      "metadata": {
        "id": "olKRGvH6J3UL"
      },
      "execution_count": null,
      "outputs": []
    },
    {
      "cell_type": "markdown",
      "source": [
        "# flatten the vgg output"
      ],
      "metadata": {
        "id": "1j3Ds92YKL7E"
      }
    },
    {
      "cell_type": "code",
      "source": [
        "x = Flatten()(vgg.output)"
      ],
      "metadata": {
        "id": "iVScV5YJKJTe"
      },
      "execution_count": null,
      "outputs": []
    },
    {
      "cell_type": "code",
      "source": [
        "prediction = Dense(len(folders), activation=\"softmax\")(x)"
      ],
      "metadata": {
        "id": "jUIWBwyBKOxO"
      },
      "execution_count": null,
      "outputs": []
    },
    {
      "cell_type": "code",
      "source": [
        "# creating a model object\n",
        "\n",
        "model =Model(inputs = vgg.input, outputs=prediction)"
      ],
      "metadata": {
        "id": "xGsRs11MKQZV"
      },
      "execution_count": null,
      "outputs": []
    },
    {
      "cell_type": "code",
      "source": [
        "model.summary()"
      ],
      "metadata": {
        "colab": {
          "base_uri": "https://localhost:8080/"
        },
        "id": "ukC0oNLGKSKc",
        "outputId": "c11c68c5-dd7a-48e2-894c-97f878e7d7a7"
      },
      "execution_count": null,
      "outputs": [
        {
          "output_type": "stream",
          "name": "stdout",
          "text": [
            "Model: \"model\"\n",
            "_________________________________________________________________\n",
            " Layer (type)                Output Shape              Param #   \n",
            "=================================================================\n",
            " input_1 (InputLayer)        [(None, 224, 224, 3)]     0         \n",
            "                                                                 \n",
            " block1_conv1 (Conv2D)       (None, 224, 224, 64)      1792      \n",
            "                                                                 \n",
            " block1_conv2 (Conv2D)       (None, 224, 224, 64)      36928     \n",
            "                                                                 \n",
            " block1_pool (MaxPooling2D)  (None, 112, 112, 64)      0         \n",
            "                                                                 \n",
            " block2_conv1 (Conv2D)       (None, 112, 112, 128)     73856     \n",
            "                                                                 \n",
            " block2_conv2 (Conv2D)       (None, 112, 112, 128)     147584    \n",
            "                                                                 \n",
            " block2_pool (MaxPooling2D)  (None, 56, 56, 128)       0         \n",
            "                                                                 \n",
            " block3_conv1 (Conv2D)       (None, 56, 56, 256)       295168    \n",
            "                                                                 \n",
            " block3_conv2 (Conv2D)       (None, 56, 56, 256)       590080    \n",
            "                                                                 \n",
            " block3_conv3 (Conv2D)       (None, 56, 56, 256)       590080    \n",
            "                                                                 \n",
            " block3_pool (MaxPooling2D)  (None, 28, 28, 256)       0         \n",
            "                                                                 \n",
            " block4_conv1 (Conv2D)       (None, 28, 28, 512)       1180160   \n",
            "                                                                 \n",
            " block4_conv2 (Conv2D)       (None, 28, 28, 512)       2359808   \n",
            "                                                                 \n",
            " block4_conv3 (Conv2D)       (None, 28, 28, 512)       2359808   \n",
            "                                                                 \n",
            " block4_pool (MaxPooling2D)  (None, 14, 14, 512)       0         \n",
            "                                                                 \n",
            " block5_conv1 (Conv2D)       (None, 14, 14, 512)       2359808   \n",
            "                                                                 \n",
            " block5_conv2 (Conv2D)       (None, 14, 14, 512)       2359808   \n",
            "                                                                 \n",
            " block5_conv3 (Conv2D)       (None, 14, 14, 512)       2359808   \n",
            "                                                                 \n",
            " block5_pool (MaxPooling2D)  (None, 7, 7, 512)         0         \n",
            "                                                                 \n",
            " flatten (Flatten)           (None, 25088)             0         \n",
            "                                                                 \n",
            " dense (Dense)               (None, 7)                 175623    \n",
            "                                                                 \n",
            "=================================================================\n",
            "Total params: 14,890,311\n",
            "Trainable params: 175,623\n",
            "Non-trainable params: 14,714,688\n",
            "_________________________________________________________________\n"
          ]
        }
      ]
    },
    {
      "cell_type": "markdown",
      "source": [
        "# Compile the model"
      ],
      "metadata": {
        "id": "GhW3bdK-15C3"
      }
    },
    {
      "cell_type": "code",
      "source": [
        "\n",
        "model.compile(optimizer=\"adam\", loss=\"categorical_crossentropy\", metrics =[\"accuracy\"])"
      ],
      "metadata": {
        "id": "mTvuMpx3KT5o"
      },
      "execution_count": null,
      "outputs": []
    },
    {
      "cell_type": "markdown",
      "source": [
        "# Data augmentation"
      ],
      "metadata": {
        "id": "3RkPr9KYKY_b"
      }
    },
    {
      "cell_type": "code",
      "source": [
        "train_datagen=ImageDataGenerator(rescale = 1./255, shear_range = 0.2, zoom_range = 0.2, horizontal_flip=True)\n"
      ],
      "metadata": {
        "id": "yKZ-nsUcKWR9"
      },
      "execution_count": null,
      "outputs": []
    },
    {
      "cell_type": "code",
      "source": [
        "test_datagen = ImageDataGenerator(rescale = 1./255)"
      ],
      "metadata": {
        "id": "llLdCDfdKkeS"
      },
      "execution_count": null,
      "outputs": []
    },
    {
      "cell_type": "code",
      "source": [
        "train_set=train_datagen.flow_from_directory(\"/content/drive/MyDrive/new_ds/train/train\", target_size = (224, 224), batch_size = 32, class_mode=\"categorical\")\n",
        " "
      ],
      "metadata": {
        "colab": {
          "base_uri": "https://localhost:8080/"
        },
        "id": "5n1nXHvDKpaz",
        "outputId": "2fb319b5-a568-4813-b582-8e2ecd02b5f9"
      },
      "execution_count": null,
      "outputs": [
        {
          "output_type": "stream",
          "name": "stdout",
          "text": [
            "Found 7671 images belonging to 7 classes.\n"
          ]
        }
      ]
    },
    {
      "cell_type": "code",
      "source": [
        "test_set=test_datagen.flow_from_directory(\"/content/drive/MyDrive/new_ds/test/test\",target_size = (224, 224), batch_size = 32, class_mode=\"categorical\")"
      ],
      "metadata": {
        "colab": {
          "base_uri": "https://localhost:8080/"
        },
        "id": "2yJf8e3bKt-j",
        "outputId": "5dba8af9-290a-4eee-fb12-cbd51fa39403"
      },
      "execution_count": null,
      "outputs": [
        {
          "output_type": "stream",
          "name": "stdout",
          "text": [
            "Found 1430 images belonging to 7 classes.\n"
          ]
        }
      ]
    },
    {
      "cell_type": "markdown",
      "source": [
        "# Model Training"
      ],
      "metadata": {
        "id": "ljg6jmQ62Brt"
      }
    },
    {
      "cell_type": "code",
      "source": [
        "history =  model.fit(train_set,validation_data=test_set ,epochs = 20).history\n"
      ],
      "metadata": {
        "colab": {
          "base_uri": "https://localhost:8080/"
        },
        "id": "IJrar_xJKyPj",
        "outputId": "73ccfa6c-b6d2-43ab-b4a4-93b5978b93ad"
      },
      "execution_count": null,
      "outputs": [
        {
          "output_type": "stream",
          "name": "stdout",
          "text": [
            "Epoch 1/20\n",
            "240/240 [==============================] - 2011s 8s/step - loss: 1.2737 - accuracy: 0.5637 - val_loss: 0.7667 - val_accuracy: 0.7406\n",
            "Epoch 2/20\n",
            "240/240 [==============================] - 153s 637ms/step - loss: 0.7941 - accuracy: 0.7269 - val_loss: 0.5642 - val_accuracy: 0.8077\n",
            "Epoch 3/20\n",
            "240/240 [==============================] - 153s 636ms/step - loss: 0.6776 - accuracy: 0.7720 - val_loss: 0.4932 - val_accuracy: 0.8294\n",
            "Epoch 4/20\n",
            "240/240 [==============================] - 153s 637ms/step - loss: 0.5193 - accuracy: 0.8239 - val_loss: 0.3782 - val_accuracy: 0.8720\n",
            "Epoch 5/20\n",
            "240/240 [==============================] - 152s 633ms/step - loss: 0.4295 - accuracy: 0.8543 - val_loss: 0.3051 - val_accuracy: 0.9049\n",
            "Epoch 6/20\n",
            "240/240 [==============================] - 154s 644ms/step - loss: 0.4102 - accuracy: 0.8576 - val_loss: 0.3134 - val_accuracy: 0.9021\n",
            "Epoch 7/20\n",
            "240/240 [==============================] - 154s 640ms/step - loss: 0.3616 - accuracy: 0.8779 - val_loss: 0.2372 - val_accuracy: 0.9175\n",
            "Epoch 8/20\n",
            "240/240 [==============================] - 152s 634ms/step - loss: 0.3392 - accuracy: 0.8837 - val_loss: 0.2601 - val_accuracy: 0.9140\n",
            "Epoch 9/20\n",
            "240/240 [==============================] - 151s 628ms/step - loss: 0.3077 - accuracy: 0.8969 - val_loss: 0.2426 - val_accuracy: 0.9119\n",
            "Epoch 10/20\n",
            "240/240 [==============================] - 152s 633ms/step - loss: 0.2851 - accuracy: 0.8991 - val_loss: 0.2365 - val_accuracy: 0.9161\n",
            "Epoch 11/20\n",
            "240/240 [==============================] - 152s 633ms/step - loss: 0.2930 - accuracy: 0.8990 - val_loss: 0.1530 - val_accuracy: 0.9503\n",
            "Epoch 12/20\n",
            "240/240 [==============================] - 152s 633ms/step - loss: 0.2666 - accuracy: 0.9082 - val_loss: 0.1256 - val_accuracy: 0.9594\n",
            "Epoch 13/20\n",
            "240/240 [==============================] - 151s 628ms/step - loss: 0.2189 - accuracy: 0.9266 - val_loss: 0.0828 - val_accuracy: 0.9713\n",
            "Epoch 14/20\n",
            "240/240 [==============================] - 152s 633ms/step - loss: 0.2327 - accuracy: 0.9170 - val_loss: 0.1184 - val_accuracy: 0.9643\n",
            "Epoch 15/20\n",
            "240/240 [==============================] - 152s 632ms/step - loss: 0.2194 - accuracy: 0.9261 - val_loss: 0.1692 - val_accuracy: 0.9378\n",
            "Epoch 16/20\n",
            "240/240 [==============================] - 152s 632ms/step - loss: 0.2074 - accuracy: 0.9292 - val_loss: 0.1408 - val_accuracy: 0.9441\n",
            "Epoch 17/20\n",
            "240/240 [==============================] - 151s 627ms/step - loss: 0.2058 - accuracy: 0.9258 - val_loss: 0.1056 - val_accuracy: 0.9650\n",
            "Epoch 18/20\n",
            "240/240 [==============================] - 152s 631ms/step - loss: 0.2038 - accuracy: 0.9313 - val_loss: 0.0996 - val_accuracy: 0.9643\n",
            "Epoch 19/20\n",
            "240/240 [==============================] - 151s 629ms/step - loss: 0.1647 - accuracy: 0.9434 - val_loss: 0.0564 - val_accuracy: 0.9846\n",
            "Epoch 20/20\n",
            "240/240 [==============================] - 152s 635ms/step - loss: 0.1534 - accuracy: 0.9497 - val_loss: 0.1592 - val_accuracy: 0.9392\n"
          ]
        }
      ]
    },
    {
      "cell_type": "markdown",
      "source": [
        "# Model accuracy"
      ],
      "metadata": {
        "id": "ZO560xyU2Mh3"
      }
    },
    {
      "cell_type": "code",
      "source": [
        "# Plot the model accuracy\n",
        "\n",
        "plt.figure(figsize=(12,7))\n",
        "plt.plot(history['accuracy'], color='deeppink', linewidth=4)\n",
        "plt.plot(history['val_accuracy'], color='dodgerblue', linewidth=4)\n",
        "plt.title('Model Accuracy', fontsize=14, fontweight='bold')\n",
        "plt.ylabel('Accuracy', fontsize=14, fontweight='bold')\n",
        "plt.xlabel('Epoch', fontsize=14, fontweight='bold')\n",
        "plt.legend(['Train', 'Validation'], loc='upper left', bbox_to_anchor=(1,1), fontsize=14)\n",
        "plt.show()"
      ],
      "metadata": {
        "colab": {
          "base_uri": "https://localhost:8080/",
          "height": 463
        },
        "id": "n5CN0rbuLWZ2",
        "outputId": "ee5e644e-a5cb-495c-990b-03485f8c502f"
      },
      "execution_count": null,
      "outputs": [
        {
          "output_type": "display_data",
          "data": {
            "text/plain": [
              "<Figure size 864x504 with 1 Axes>"
            ],
            "image/png": "[encoded data removed]"
          },
          "metadata": {
            "needs_background": "light"
          }
        }
      ]
    },
    {
      "cell_type": "markdown",
      "source": [
        "# Model loss"
      ],
      "metadata": {
        "id": "K63NZMYf2PlG"
      }
    },
    {
      "cell_type": "code",
      "source": [
        "plt.figure(figsize=(12,7))\n",
        "plt.plot(history['loss'], color='deeppink', linewidth=4)\n",
        "plt.plot(history['val_loss'], color='dodgerblue', linewidth=4)\n",
        "plt.title('Model Loss', fontsize=14, fontweight='bold')\n",
        "plt.ylabel('Loss', fontsize=14, fontweight='bold')\n",
        "plt.xlabel('Epoch', fontsize=14, fontweight='bold')\n",
        "plt.legend(['Train', 'Validation'], loc='upper left', bbox_to_anchor=(1,1), fontsize=14)\n",
        "plt.show()"
      ],
      "metadata": {
        "colab": {
          "base_uri": "https://localhost:8080/",
          "height": 463
        },
        "id": "wdKvuvcFLXEM",
        "outputId": "3dcfe2aa-1024-4d5c-8390-656850027540"
      },
      "execution_count": null,
      "outputs": [
        {
          "output_type": "display_data",
          "data": {
            "text/plain": [
              "<Figure size 864x504 with 1 Axes>"
            ],
            "image/png": "[encoded data removed]"
          },
          "metadata": {
            "needs_background": "light"
          }
        }
      ]
    },
    {
      "cell_type": "markdown",
      "source": [
        "# Save Model"
      ],
      "metadata": {
        "id": "ae99uZD22mON"
      }
    },
    {
      "cell_type": "code",
      "source": [
        "model.save('model.h5')"
      ],
      "metadata": {
        "id": "7lM_JNMteEhG"
      },
      "execution_count": null,
      "outputs": []
    }
  ]
}